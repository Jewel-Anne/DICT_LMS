{
 "cells": [
  {
   "cell_type": "code",
   "execution_count": 1,
   "id": "8208d46e-6e09-4fe1-9cde-26ec96b6b2f4",
   "metadata": {},
   "outputs": [
    {
     "data": {
      "text/plain": [
       "['In',\n",
       " 'Out',\n",
       " '_',\n",
       " '__',\n",
       " '___',\n",
       " '__builtin__',\n",
       " '__builtins__',\n",
       " '__doc__',\n",
       " '__loader__',\n",
       " '__name__',\n",
       " '__package__',\n",
       " '__session__',\n",
       " '__spec__',\n",
       " '_dh',\n",
       " '_i',\n",
       " '_i1',\n",
       " '_ih',\n",
       " '_ii',\n",
       " '_iii',\n",
       " '_oh',\n",
       " 'exit',\n",
       " 'get_ipython',\n",
       " 'open',\n",
       " 'quit']"
      ]
     },
     "execution_count": 1,
     "metadata": {},
     "output_type": "execute_result"
    }
   ],
   "source": [
    "dir() #directory"
   ]
  },
  {
   "cell_type": "markdown",
   "id": "393f0478-3ad6-4128-b0cb-13950dbab68a",
   "metadata": {},
   "source": [
    "### Python Review"
   ]
  },
  {
   "cell_type": "markdown",
   "id": "d4ee7b4a-c4f0-4944-82a9-c2b593288e97",
   "metadata": {},
   "source": [
    "#### Functions"
   ]
  },
  {
   "cell_type": "markdown",
   "id": "caab37a5-7934-42ce-94df-ca01e1f7b32c",
   "metadata": {},
   "source": [
    "A **function** is a block of code which only runs when it is called.\n",
    "\n",
    "You can pass data known as **_parameters_**, into a function. A function can also **return** data as a result.\n",
    "\n",
    "This function, **get_mean** has one parameter **ave**. The value of **m** is passed into the function and returns a result when the function is called."
   ]
  },
  {
   "cell_type": "code",
   "execution_count": 2,
   "id": "85af1220-0553-4e4d-9e97-6b1d1b6c3e19",
   "metadata": {},
   "outputs": [
    {
     "name": "stdout",
     "output_type": "stream",
     "text": [
      "The mean of this list is 81.5\n"
     ]
    }
   ],
   "source": [
    "def get_mean(ave):\n",
    "    print(\"The mean of this list is\", ave)\n",
    "\n",
    "n_num = [78, 80, 79, 80, 87, 85]\n",
    "n = len(n_num)\n",
    "\n",
    "get_sum = sum(n_num)\n",
    "mean = get_sum/n\n",
    "\n",
    "m = str(mean)\n",
    "\n",
    "get_mean(m)"
   ]
  },
  {
   "cell_type": "markdown",
   "id": "5d22fa07-51d0-4a67-b5c4-1008c96e7d53",
   "metadata": {},
   "source": [
    "#### Arrays and Lists"
   ]
  },
  {
   "cell_type": "markdown",
   "id": "9e4f1282-423e-4341-8408-1b2b488402a7",
   "metadata": {},
   "source": [
    "An array is a type of data structure. To use an array in Python, we need to **import** the data structure from the **array** modul. I list is a data structure that's built into Python and holds a collection of items.\n",
    "\n",
    "This code prints the **_first 5 elements_** of the array friends_usage. In both arrays and lists, the index starts from '0' and not '1'."
   ]
  },
  {
   "cell_type": "code",
   "execution_count": 3,
   "id": "b9c5b177-e3af-4549-8169-fb0ee6a58a15",
   "metadata": {},
   "outputs": [
    {
     "name": "stdout",
     "output_type": "stream",
     "text": [
      "array('i', [5, 4, 3, 5, 8])\n"
     ]
    }
   ],
   "source": [
    "import array as arr\n",
    "\n",
    "friends_usage = [5, 4, 3, 5, 8, 2, 5, 2, 5, 8, 10, 8, 7, 9, 10, 5, 7, 5, 7, 5, 4, 3, 5, 8, 4]\n",
    "sample_data = arr.array('i', friends_usage)\n",
    "\n",
    "print(sample_data[0:5]) #1st to 5th element"
   ]
  },
  {
   "cell_type": "markdown",
   "id": "85cef3ca-c05d-4295-aa36-99b3ee9be410",
   "metadata": {},
   "source": [
    "This code converts **sample_data_array** to an ordinary list with the same items."
   ]
  },
  {
   "cell_type": "code",
   "execution_count": 4,
   "id": "5c7560bf-6b50-4f51-a663-4e69e28bd2c1",
   "metadata": {},
   "outputs": [
    {
     "name": "stdout",
     "output_type": "stream",
     "text": [
      "[5, 4, 3, 5, 8]\n"
     ]
    }
   ],
   "source": [
    "from array import *\n",
    "\n",
    "sample_data_array = array('i', [5,4,3,5,8])\n",
    "\n",
    "sample_data_list = sample_data_array.tolist()\n",
    "\n",
    "print(sample_data_list)"
   ]
  },
  {
   "cell_type": "code",
   "execution_count": null,
   "id": "a6566f34-616c-428f-bbc6-ba43b29ed241",
   "metadata": {},
   "outputs": [],
   "source": []
  }
 ],
 "metadata": {
  "kernelspec": {
   "display_name": "Python 3 (ipykernel)",
   "language": "python",
   "name": "python3"
  },
  "language_info": {
   "codemirror_mode": {
    "name": "ipython",
    "version": 3
   },
   "file_extension": ".py",
   "mimetype": "text/x-python",
   "name": "python",
   "nbconvert_exporter": "python",
   "pygments_lexer": "ipython3",
   "version": "3.12.2"
  }
 },
 "nbformat": 4,
 "nbformat_minor": 5
}
