{
 "cells": [
  {
   "cell_type": "markdown",
   "id": "000d1b46-9a0b-4edb-a472-2d40eeb8d7ff",
   "metadata": {},
   "source": [
    "## Descriptive Statistics"
   ]
  },
  {
   "cell_type": "markdown",
   "id": "8ed71f8a-beb3-4813-9423-87fe0030b0db",
   "metadata": {},
   "source": [
    "#### Population"
   ]
  },
  {
   "cell_type": "code",
   "execution_count": 1,
   "id": "8cc50592-1d50-4833-9c04-bcacbc70d2d7",
   "metadata": {},
   "outputs": [
    {
     "name": "stdout",
     "output_type": "stream",
     "text": [
      "Descriptive Statistics\n",
      "Mean:  5.76\n",
      "Mode:  5\n",
      "Median:  5\n",
      "Range:  8\n",
      "Population Variance:  5.14\n",
      "Population Standard Deviation:  2.27\n"
     ]
    }
   ],
   "source": [
    "import statistics\n",
    "\n",
    "friends_usage = [5, 4, 3, 5, 8, 2, 5, 2, 5, 8, 10, 8, 7, 9, 10, 5, 7, 5, 7, 5, 4, 3, 5, 8, 4]\n",
    "\n",
    "mean = statistics.mean(friends_usage)\n",
    "mode = statistics.mode(friends_usage)\n",
    "median = statistics.median(friends_usage)\n",
    "pstdev = round(statistics.pstdev(friends_usage), 2)\n",
    "pvariance = round(statistics.pvariance(friends_usage), 2)\n",
    "srange = (max(friends_usage)-min(friends_usage))\n",
    "\n",
    "print(\"Descriptive Statistics\")\n",
    "print(\"Mean: \", mean)\n",
    "print(\"Mode: \", mode)\n",
    "print(\"Median: \", median)\n",
    "print(\"Range: \", srange)\n",
    "print(\"Population Variance: \", pvariance)\n",
    "print(\"Population Standard Deviation: \", pstdev)"
   ]
  },
  {
   "cell_type": "markdown",
   "id": "9003827c-2e47-4372-b427-28d82315c5ce",
   "metadata": {},
   "source": [
    "#### Sample"
   ]
  },
  {
   "cell_type": "code",
   "execution_count": 2,
   "id": "3dfb26f4-c3af-4457-a930-33251df249cb",
   "metadata": {},
   "outputs": [
    {
     "name": "stdout",
     "output_type": "stream",
     "text": [
      "Sample Variance:  3.5\n",
      "Sample Standard Deviation:  1.87\n"
     ]
    }
   ],
   "source": [
    "import statistics\n",
    "import array as arr\n",
    "\n",
    "friends_usage = [5, 4, 3, 5, 8, 2, 5, 2, 5, 8, 10, 8, 7, 9, 10, 5, 7, 5, 7, 5, 4, 3, 5, 8, 4]\n",
    "\n",
    "sample_data = arr.array('i', friends_usage)\n",
    "dataset = sample_data[0:5]\n",
    "sample_data_list = dataset.tolist()\n",
    "\n",
    "variance = round(statistics.variance(sample_data_list), 2)\n",
    "stdev = round(statistics.stdev(sample_data_list), 2)\n",
    "\n",
    "print(\"Sample Variance: \", variance)\n",
    "print(\"Sample Standard Deviation: \", stdev)"
   ]
  },
  {
   "cell_type": "code",
   "execution_count": null,
   "id": "4ab3c06a-0ed7-4144-8ce2-90fa7d45dda4",
   "metadata": {},
   "outputs": [],
   "source": []
  }
 ],
 "metadata": {
  "kernelspec": {
   "display_name": "Python 3 (ipykernel)",
   "language": "python",
   "name": "python3"
  },
  "language_info": {
   "codemirror_mode": {
    "name": "ipython",
    "version": 3
   },
   "file_extension": ".py",
   "mimetype": "text/x-python",
   "name": "python",
   "nbconvert_exporter": "python",
   "pygments_lexer": "ipython3",
   "version": "3.12.2"
  }
 },
 "nbformat": 4,
 "nbformat_minor": 5
}
