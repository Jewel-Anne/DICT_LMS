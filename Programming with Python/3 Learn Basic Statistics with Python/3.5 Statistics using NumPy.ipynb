{
 "cells": [
  {
   "cell_type": "code",
   "execution_count": 1,
   "id": "dfe62bae-9223-4dda-b07a-cc38f2c9a757",
   "metadata": {},
   "outputs": [
    {
     "name": "stdout",
     "output_type": "stream",
     "text": [
      "Descriptive Statistics\n",
      "Mean:  5.76\n",
      "Mode:  5\n",
      "Median:  5\n",
      "Range:  8\n",
      "Population Variance:  5.14\n",
      "Population Standard Deviation:  2.27\n",
      "Sample Variance:  3.5\n",
      "Sample Standard Deviation:  1.87\n"
     ]
    }
   ],
   "source": [
    "# From the last video tutorial 3.1 Statistical Functions in Python.ipynb\n",
    "import statistics\n",
    "import array as arr\n",
    "\n",
    "friends_usage = [5, 4, 3, 5, 8, 2, 5, 2, 5, 8, 10, 8, 7, 9, 10, 5, 7, 5, 7, 5, 4, 3, 5, 8, 4]\n",
    "\n",
    "sample_data = arr.array('i', friends_usage)\n",
    "dataset = sample_data[0:5]\n",
    "sample_data_list = dataset.tolist()\n",
    "\n",
    "mean = statistics.mean(friends_usage)\n",
    "mode = statistics.mode(friends_usage)\n",
    "median = statistics.median(friends_usage)\n",
    "pstdev = round(statistics.pstdev(friends_usage), 2)\n",
    "pvariance = round(statistics.pvariance(friends_usage), 2)\n",
    "srange = (max(friends_usage)-min(friends_usage))\n",
    "variance = round(statistics.variance(sample_data_list), 2)\n",
    "stdev = round(statistics.stdev(sample_data_list), 2)\n",
    "\n",
    "print(\"Descriptive Statistics\")\n",
    "print(\"Mean: \", mean)\n",
    "print(\"Mode: \", mode)\n",
    "print(\"Median: \", median)\n",
    "print(\"Range: \", srange)\n",
    "print(\"Population Variance: \", pvariance)\n",
    "print(\"Population Standard Deviation: \", pstdev)\n",
    "print(\"Sample Variance: \", variance)\n",
    "print(\"Sample Standard Deviation: \", stdev)"
   ]
  },
  {
   "cell_type": "markdown",
   "id": "67504083-aaa8-4671-9c44-1b29341b4532",
   "metadata": {},
   "source": [
    "## NumPy Statistics"
   ]
  },
  {
   "cell_type": "code",
   "execution_count": 2,
   "id": "f894fce8-cdb9-4473-bb63-0b63152c0bb4",
   "metadata": {},
   "outputs": [
    {
     "name": "stdout",
     "output_type": "stream",
     "text": [
      "Mean:  5.76\n",
      "Mode:  ModeResult(mode=5, count=8)\n",
      "Median:  5.0\n",
      "Range:  8\n",
      "Population Variance:  5.14\n",
      "Population Standard Deviation:  2.27\n",
      "Sample Variance:  3.5\n",
      "Sample Standard Deviation:  1.87\n"
     ]
    }
   ],
   "source": [
    "import numpy as np\n",
    "from scipy import stats\n",
    "\n",
    "f_usage = [5, 4, 3, 5, 8, 2, 5, 2, 5, 8, 10, 8, 7, 9, 10, 5, 7, 5, 7, 5, 4, 3, 5, 8, 4]\n",
    "\n",
    "def display_stat():\n",
    "    print(\"Mean: \", mean)\n",
    "    print(\"Mode: \", mode)\n",
    "    print(\"Median: \", median)\n",
    "    print(\"Range: \", srange)\n",
    "    print(\"Population Variance: \", pvariance)\n",
    "    print(\"Population Standard Deviation: \", pdeviation)\n",
    "    print(\"Sample Variance: \", variance)\n",
    "    print(\"Sample Standard Deviation: \", sdeviation)\n",
    "\n",
    "mean = np.mean(f_usage)\n",
    "median = np.median(f_usage)\n",
    "pdeviation = round(np.std(f_usage), 2)\n",
    "pvariance = round(np.var(f_usage), 2)\n",
    "\n",
    "srange = round(np.ptp(f_usage),2)\n",
    "mode = stats.mode(f_usage)\n",
    "\n",
    "sample_data = arr.array('i', f_usage)\n",
    "dataset = sample_data[0:5]\n",
    "f_usage_s = dataset.tolist()\n",
    "\n",
    "variance = round(np.var(f_usage_s, ddof=1), 2)\n",
    "sdeviation = round(np.std(f_usage_s, ddof=1), 2)\n",
    "\n",
    "display_stat()"
   ]
  },
  {
   "cell_type": "code",
   "execution_count": null,
   "id": "762f09da-9de1-4f3d-82c4-c9df3252c1f2",
   "metadata": {},
   "outputs": [],
   "source": []
  }
 ],
 "metadata": {
  "kernelspec": {
   "display_name": "Python 3 (ipykernel)",
   "language": "python",
   "name": "python3"
  },
  "language_info": {
   "codemirror_mode": {
    "name": "ipython",
    "version": 3
   },
   "file_extension": ".py",
   "mimetype": "text/x-python",
   "name": "python",
   "nbconvert_exporter": "python",
   "pygments_lexer": "ipython3",
   "version": "3.12.2"
  }
 },
 "nbformat": 4,
 "nbformat_minor": 5
}
